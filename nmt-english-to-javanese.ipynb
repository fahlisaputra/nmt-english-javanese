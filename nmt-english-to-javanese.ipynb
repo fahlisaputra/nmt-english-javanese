{
 "cells": [
  {
   "cell_type": "markdown",
   "id": "ycS_OXdBSjXo",
   "metadata": {
    "id": "ycS_OXdBSjXo"
   },
   "source": [
    "# **Neural Machine Translation with Teacher Forcing using Tensorflow**"
   ]
  },
  {
   "cell_type": "markdown",
   "id": "ibAwYwenSjXu",
   "metadata": {
    "id": "ibAwYwenSjXu"
   },
   "source": [
    "# **Overview :**\n",
    "\n",
    "Neural Machine Translation model with teacher forcing using Tensorflow to translate text from **English to Javanese**. The initial code based on natural language processing project by Balamurugan1603 (https://github.com/balamurugan1603/English-to-Italian-Neural-Machine-Translator).\n",
    "\n",
    "Modified for information extraction to be able searching with google. By group 4:\n",
    "1. Muhammad Fahli Saputra (210535614835)\n",
    "2. Naufal Rizaldi Gunawan (210535614872)\n",
    "3. Manuel Tanbica Graciello (210535614820)\n",
    "4. Muhammad Rayhan Ardhinar (210535614848)"
   ]
  },
  {
   "cell_type": "markdown",
   "id": "6NtZFLNASjXv",
   "metadata": {
    "id": "6NtZFLNASjXv"
   },
   "source": [
    "# **Dependencies :**"
   ]
  },
  {
   "cell_type": "code",
   "execution_count": 1,
   "id": "X1YxdxBxSjXv",
   "metadata": {
    "execution": {
     "iopub.execute_input": "2023-12-03T10:05:58.096567Z",
     "iopub.status.busy": "2023-12-03T10:05:58.095713Z",
     "iopub.status.idle": "2023-12-03T10:06:05.000354Z",
     "shell.execute_reply": "2023-12-03T10:06:04.999303Z",
     "shell.execute_reply.started": "2023-12-03T10:05:58.096535Z"
    },
    "executionInfo": {
     "elapsed": 4284,
     "status": "ok",
     "timestamp": 1700210398391,
     "user": {
      "displayName": "Muhammad Fahli Saputra",
      "userId": "07111099678462131352"
     },
     "user_tz": -420
    },
    "id": "X1YxdxBxSjXv"
   },
   "outputs": [
    {
     "name": "stderr",
     "output_type": "stream",
     "text": [
      "2023-12-03 10:06:00.666165: I tensorflow/core/util/port.cc:113] oneDNN custom operations are on. You may see slightly different numerical results due to floating-point round-off errors from different computation orders. To turn them off, set the environment variable `TF_ENABLE_ONEDNN_OPTS=0`.\n",
      "2023-12-03 10:06:00.783221: I external/local_tsl/tsl/cuda/cudart_stub.cc:31] Could not find cuda drivers on your machine, GPU will not be used.\n",
      "2023-12-03 10:06:01.277366: E external/local_xla/xla/stream_executor/cuda/cuda_dnn.cc:9261] Unable to register cuDNN factory: Attempting to register factory for plugin cuDNN when one has already been registered\n",
      "2023-12-03 10:06:01.277452: E external/local_xla/xla/stream_executor/cuda/cuda_fft.cc:607] Unable to register cuFFT factory: Attempting to register factory for plugin cuFFT when one has already been registered\n",
      "2023-12-03 10:06:01.382072: E external/local_xla/xla/stream_executor/cuda/cuda_blas.cc:1515] Unable to register cuBLAS factory: Attempting to register factory for plugin cuBLAS when one has already been registered\n",
      "2023-12-03 10:06:01.590270: I external/local_tsl/tsl/cuda/cudart_stub.cc:31] Could not find cuda drivers on your machine, GPU will not be used.\n",
      "2023-12-03 10:06:01.593203: I tensorflow/core/platform/cpu_feature_guard.cc:182] This TensorFlow binary is optimized to use available CPU instructions in performance-critical operations.\n",
      "To enable the following instructions: AVX2 AVX512F AVX512_VNNI FMA, in other operations, rebuild TensorFlow with the appropriate compiler flags.\n",
      "2023-12-03 10:06:03.099497: W tensorflow/compiler/tf2tensorrt/utils/py_utils.cc:38] TF-TRT Warning: Could not find TensorRT\n"
     ]
    }
   ],
   "source": [
    "# Importing dependancies\n",
    "\n",
    "import os\n",
    "import warnings\n",
    "import pickle\n",
    "import pandas as pd\n",
    "import numpy as np\n",
    "import matplotlib\n",
    "import seaborn as sns\n",
    "import matplotlib.pyplot as plt\n",
    "import tensorflow as tf\n",
    "from sklearn.model_selection import train_test_split\n",
    "from IPython.display import display\n",
    "from tensorflow.keras.preprocessing.text import Tokenizer\n",
    "from tensorflow.keras.preprocessing.sequence import pad_sequences\n",
    "from tensorflow.keras.utils import to_categorical\n",
    "from tensorflow.keras.layers import Input, GRU, TimeDistributed, Dense\n",
    "from tensorflow.keras.models import Model, save_model\n",
    "import yake\n",
    "from googlesearch import search\n",
    "import bs4 \n",
    "import requests"
   ]
  },
  {
   "cell_type": "markdown",
   "id": "o7eoofA9SjXx",
   "metadata": {
    "id": "o7eoofA9SjXx"
   },
   "source": [
    "# **Configuration :**"
   ]
  },
  {
   "cell_type": "code",
   "execution_count": 2,
   "id": "ke5J3SDJSjXy",
   "metadata": {
    "colab": {
     "base_uri": "https://localhost:8080/"
    },
    "execution": {
     "iopub.execute_input": "2023-12-03T10:06:05.002977Z",
     "iopub.status.busy": "2023-12-03T10:06:05.002274Z",
     "iopub.status.idle": "2023-12-03T10:06:05.006826Z",
     "shell.execute_reply": "2023-12-03T10:06:05.006028Z",
     "shell.execute_reply.started": "2023-12-03T10:06:05.002938Z"
    },
    "executionInfo": {
     "elapsed": 337,
     "status": "ok",
     "timestamp": 1700210463404,
     "user": {
      "displayName": "Muhammad Fahli Saputra",
      "userId": "07111099678462131352"
     },
     "user_tz": -420
    },
    "id": "ke5J3SDJSjXy",
    "outputId": "1cd93660-f7c7-4a36-de8b-a1fdd604d4e0"
   },
   "outputs": [],
   "source": [
    "# Suppress warnings\n",
    "warnings.filterwarnings(\"ignore\")"
   ]
  },
  {
   "cell_type": "markdown",
   "id": "ncmADuzWSjXy",
   "metadata": {
    "id": "ncmADuzWSjXy"
   },
   "source": [
    "# **Loading data and basic preprocessing :**"
   ]
  },
  {
   "cell_type": "code",
   "execution_count": 3,
   "id": "OPLz09NSSjXz",
   "metadata": {
    "execution": {
     "iopub.execute_input": "2023-12-03T10:06:05.008633Z",
     "iopub.status.busy": "2023-12-03T10:06:05.007947Z",
     "iopub.status.idle": "2023-12-03T10:06:05.020073Z",
     "shell.execute_reply": "2023-12-03T10:06:05.019376Z",
     "shell.execute_reply.started": "2023-12-03T10:06:05.008597Z"
    },
    "executionInfo": {
     "elapsed": 1003,
     "status": "ok",
     "timestamp": 1700210545324,
     "user": {
      "displayName": "Muhammad Fahli Saputra",
      "userId": "07111099678462131352"
     },
     "user_tz": -420
    },
    "id": "OPLz09NSSjXz"
   },
   "outputs": [],
   "source": [
    "# Loads data\n",
    "data = pd.read_csv(\"new_corpus.txt\", sep=\"\\t\")"
   ]
  },
  {
   "cell_type": "code",
   "execution_count": 4,
   "id": "zjPnnP42SjXz",
   "metadata": {
    "execution": {
     "iopub.execute_input": "2023-12-03T10:06:05.021835Z",
     "iopub.status.busy": "2023-12-03T10:06:05.021515Z",
     "iopub.status.idle": "2023-12-03T10:06:05.025401Z",
     "shell.execute_reply": "2023-12-03T10:06:05.024461Z",
     "shell.execute_reply.started": "2023-12-03T10:06:05.021812Z"
    },
    "executionInfo": {
     "elapsed": 336,
     "status": "ok",
     "timestamp": 1700210558079,
     "user": {
      "displayName": "Muhammad Fahli Saputra",
      "userId": "07111099678462131352"
     },
     "user_tz": -420
    },
    "id": "zjPnnP42SjXz"
   },
   "outputs": [],
   "source": [
    "# Sets column names\n",
    "data.columns = [\"english\", \"jawa\"]"
   ]
  },
  {
   "cell_type": "code",
   "execution_count": 5,
   "id": "MkPkYB3xSjXz",
   "metadata": {
    "colab": {
     "base_uri": "https://localhost:8080/",
     "height": 385
    },
    "execution": {
     "iopub.execute_input": "2023-12-03T10:06:05.026694Z",
     "iopub.status.busy": "2023-12-03T10:06:05.026455Z",
     "iopub.status.idle": "2023-12-03T10:06:05.058344Z",
     "shell.execute_reply": "2023-12-03T10:06:05.057576Z",
     "shell.execute_reply.started": "2023-12-03T10:06:05.026674Z"
    },
    "executionInfo": {
     "elapsed": 13,
     "status": "ok",
     "timestamp": 1700210571142,
     "user": {
      "displayName": "Muhammad Fahli Saputra",
      "userId": "07111099678462131352"
     },
     "user_tz": -420
    },
    "id": "MkPkYB3xSjXz",
    "outputId": "f1ef19d9-4e36-4416-cac8-f96980e3684b"
   },
   "outputs": [
    {
     "data": {
      "text/html": [
       "<div>\n",
       "<style scoped>\n",
       "    .dataframe tbody tr th:only-of-type {\n",
       "        vertical-align: middle;\n",
       "    }\n",
       "\n",
       "    .dataframe tbody tr th {\n",
       "        vertical-align: top;\n",
       "    }\n",
       "\n",
       "    .dataframe thead th {\n",
       "        text-align: right;\n",
       "    }\n",
       "</style>\n",
       "<table border=\"1\" class=\"dataframe\">\n",
       "  <thead>\n",
       "    <tr style=\"text-align: right;\">\n",
       "      <th></th>\n",
       "      <th>english</th>\n",
       "      <th>jawa</th>\n",
       "    </tr>\n",
       "  </thead>\n",
       "  <tbody>\n",
       "    <tr>\n",
       "      <th>0</th>\n",
       "      <td>No</td>\n",
       "      <td>Mboten</td>\n",
       "    </tr>\n",
       "    <tr>\n",
       "      <th>1</th>\n",
       "      <td>In</td>\n",
       "      <td>Ing</td>\n",
       "    </tr>\n",
       "    <tr>\n",
       "      <th>2</th>\n",
       "      <td>In</td>\n",
       "      <td>Ning</td>\n",
       "    </tr>\n",
       "    <tr>\n",
       "      <th>3</th>\n",
       "      <td>Yes</td>\n",
       "      <td>Enggeh</td>\n",
       "    </tr>\n",
       "    <tr>\n",
       "      <th>4</th>\n",
       "      <td>Eat</td>\n",
       "      <td>Mangan</td>\n",
       "    </tr>\n",
       "  </tbody>\n",
       "</table>\n",
       "</div>"
      ],
      "text/plain": [
       "  english    jawa\n",
       "0      No  Mboten\n",
       "1      In     Ing\n",
       "2      In    Ning\n",
       "3     Yes  Enggeh\n",
       "4     Eat  Mangan"
      ]
     },
     "metadata": {},
     "output_type": "display_data"
    },
    {
     "name": "stdout",
     "output_type": "stream",
     "text": [
      "<class 'pandas.core.frame.DataFrame'>\n",
      "RangeIndex: 1014 entries, 0 to 1013\n",
      "Data columns (total 2 columns):\n",
      " #   Column   Non-Null Count  Dtype \n",
      "---  ------   --------------  ----- \n",
      " 0   english  1014 non-null   object\n",
      " 1   jawa     1014 non-null   object\n",
      "dtypes: object(2)\n",
      "memory usage: 16.0+ KB\n"
     ]
    },
    {
     "data": {
      "text/plain": [
       "None"
      ]
     },
     "metadata": {},
     "output_type": "display_data"
    }
   ],
   "source": [
    "display(data.head())\n",
    "display(data.info())"
   ]
  },
  {
   "cell_type": "code",
   "execution_count": 6,
   "id": "VnM42kIPSjX0",
   "metadata": {
    "colab": {
     "base_uri": "https://localhost:8080/"
    },
    "execution": {
     "iopub.execute_input": "2023-12-03T10:06:05.059828Z",
     "iopub.status.busy": "2023-12-03T10:06:05.059234Z",
     "iopub.status.idle": "2023-12-03T10:06:05.068144Z",
     "shell.execute_reply": "2023-12-03T10:06:05.067264Z",
     "shell.execute_reply.started": "2023-12-03T10:06:05.059805Z"
    },
    "executionInfo": {
     "elapsed": 326,
     "status": "ok",
     "timestamp": 1700210579830,
     "user": {
      "displayName": "Muhammad Fahli Saputra",
      "userId": "07111099678462131352"
     },
     "user_tz": -420
    },
    "id": "VnM42kIPSjX0",
    "outputId": "9e78297c-7b67-4170-d27a-b639d1273856"
   },
   "outputs": [
    {
     "name": "stdout",
     "output_type": "stream",
     "text": [
      "<class 'pandas.core.frame.DataFrame'>\n",
      "RangeIndex: 1014 entries, 0 to 1013\n",
      "Data columns (total 2 columns):\n",
      " #   Column   Non-Null Count  Dtype \n",
      "---  ------   --------------  ----- \n",
      " 0   english  1014 non-null   object\n",
      " 1   jawa     1014 non-null   object\n",
      "dtypes: object(2)\n",
      "memory usage: 16.0+ KB\n"
     ]
    }
   ],
   "source": [
    "# Drops null values\n",
    "data.dropna(inplace=True)\n",
    "data.info()"
   ]
  },
  {
   "cell_type": "code",
   "execution_count": 7,
   "id": "E4eGRPCtSjX0",
   "metadata": {
    "execution": {
     "iopub.execute_input": "2023-12-03T10:06:05.069863Z",
     "iopub.status.busy": "2023-12-03T10:06:05.069307Z",
     "iopub.status.idle": "2023-12-03T10:06:05.074252Z",
     "shell.execute_reply": "2023-12-03T10:06:05.073381Z",
     "shell.execute_reply.started": "2023-12-03T10:06:05.069821Z"
    },
    "executionInfo": {
     "elapsed": 359,
     "status": "ok",
     "timestamp": 1700210599399,
     "user": {
      "displayName": "Muhammad Fahli Saputra",
      "userId": "07111099678462131352"
     },
     "user_tz": -420
    },
    "id": "E4eGRPCtSjX0"
   },
   "outputs": [],
   "source": [
    "# Adds 'sos' and 'eos' to start and end of target (Italian) text\n",
    "# 'sos' --> Denotes start of sequence; 'eos' --> Denotes end of sequence\n",
    "\n",
    "data[\"jawa\"] = data[\"jawa\"].apply(lambda x: \"sos \" + x + \" eos\")"
   ]
  },
  {
   "cell_type": "markdown",
   "id": "ZYCHmWP6SjX0",
   "metadata": {
    "id": "ZYCHmWP6SjX0"
   },
   "source": [
    "*'sos' and 'eos' tokens are necessary for making inference from the model while using teacher forcing algorithm. So we have to train the model with these tokens in the sentences.*"
   ]
  },
  {
   "cell_type": "markdown",
   "id": "JujpTWC6SjX0",
   "metadata": {
    "id": "JujpTWC6SjX0"
   },
   "source": [
    "# **Splitting Data :**"
   ]
  },
  {
   "cell_type": "code",
   "execution_count": 8,
   "id": "taJRTLCASjX0",
   "metadata": {
    "execution": {
     "iopub.execute_input": "2023-12-03T10:06:05.075827Z",
     "iopub.status.busy": "2023-12-03T10:06:05.075471Z",
     "iopub.status.idle": "2023-12-03T10:06:05.083757Z",
     "shell.execute_reply": "2023-12-03T10:06:05.083089Z",
     "shell.execute_reply.started": "2023-12-03T10:06:05.075797Z"
    },
    "executionInfo": {
     "elapsed": 6,
     "status": "ok",
     "timestamp": 1700210609872,
     "user": {
      "displayName": "Muhammad Fahli Saputra",
      "userId": "07111099678462131352"
     },
     "user_tz": -420
    },
    "id": "taJRTLCASjX0"
   },
   "outputs": [],
   "source": [
    "# Train data: 60%; Validation data: 20%; Test data: 10000 sentences;\n",
    "eng_train, eng_remaining, it_train, it_remaining  = train_test_split(data[\"english\"].values,\n",
    "                                                                     data[\"jawa\"].values,\n",
    "                                                                     test_size=0.4,\n",
    "                                                                     random_state=22)\n",
    "\n",
    "eng_val, eng_test, it_val, it_test = train_test_split(eng_remaining,\n",
    "                                                      it_remaining,\n",
    "                                                      test_size=0.5,\n",
    "                                                      random_state=22)\n",
    "\n",
    "# Taking 10k sentences as test set\n",
    "eng_test = eng_test[:500]\n",
    "it_test = it_test[:500]"
   ]
  },
  {
   "cell_type": "code",
   "execution_count": 9,
   "id": "tViqSfP7SjX0",
   "metadata": {
    "colab": {
     "base_uri": "https://localhost:8080/"
    },
    "execution": {
     "iopub.execute_input": "2023-12-03T10:06:05.084724Z",
     "iopub.status.busy": "2023-12-03T10:06:05.084519Z",
     "iopub.status.idle": "2023-12-03T10:06:05.088633Z",
     "shell.execute_reply": "2023-12-03T10:06:05.087933Z",
     "shell.execute_reply.started": "2023-12-03T10:06:05.084705Z"
    },
    "executionInfo": {
     "elapsed": 352,
     "status": "ok",
     "timestamp": 1700210614092,
     "user": {
      "displayName": "Muhammad Fahli Saputra",
      "userId": "07111099678462131352"
     },
     "user_tz": -420
    },
    "id": "tViqSfP7SjX0",
    "outputId": "2e8cd368-52d3-487f-8ed4-96fabd756250"
   },
   "outputs": [
    {
     "name": "stdout",
     "output_type": "stream",
     "text": [
      "608\n",
      "203\n",
      "203\n"
     ]
    }
   ],
   "source": [
    "print(len(eng_train))\n",
    "print(len(eng_val))\n",
    "print(len(eng_test))"
   ]
  },
  {
   "cell_type": "code",
   "execution_count": 10,
   "id": "5fw2TLdQSjX1",
   "metadata": {
    "colab": {
     "base_uri": "https://localhost:8080/"
    },
    "execution": {
     "iopub.execute_input": "2023-12-03T10:06:05.091091Z",
     "iopub.status.busy": "2023-12-03T10:06:05.090817Z",
     "iopub.status.idle": "2023-12-03T10:06:05.095944Z",
     "shell.execute_reply": "2023-12-03T10:06:05.095190Z",
     "shell.execute_reply.started": "2023-12-03T10:06:05.091072Z"
    },
    "executionInfo": {
     "elapsed": 346,
     "status": "ok",
     "timestamp": 1700210616131,
     "user": {
      "displayName": "Muhammad Fahli Saputra",
      "userId": "07111099678462131352"
     },
     "user_tz": -420
    },
    "id": "5fw2TLdQSjX1",
    "outputId": "1a5e843d-f70f-4a12-98b2-09234f4b9156"
   },
   "outputs": [
    {
     "name": "stdout",
     "output_type": "stream",
     "text": [
      "['Life is an adventure, and the hotel is its headquarters.'\n",
      " \"You can access free Wi-Fi in your room and in the hotel's common areas.\"\n",
      " 'Yes, you can adjust the temperature in the room.'\n",
      " \"Unfortunately the hotel does not yet have outdoor sports facilities but the hotel's private park can be used for activities like running or exercise as long didn't violate hotel rules.\"\n",
      " 'Bintang Hotel provides broad playground for children']\n",
      "['The plants and trees in this hotel are truly numerous and varied'\n",
      " 'Hotel Santika often offers discounts for single rooms'\n",
      " 'Yes, there is laundry and clothing drying service for the convenience of guests.'\n",
      " 'Yes, there are complimentary toiletries provided in the room.'\n",
      " 'There are eight dormitories at Malang State University, namely Soka, Lily, Dahlia, Tulip, Edelwis, Aster, Matahari and Mawar dormitories.']\n",
      "['Rooms at the Suna Hotel are equipped with a private balcony facing the Hotel Park.'\n",
      " 'Choice of Cheese Burger Foods, Fried Chicken Wings Choice of Ice Black Coffee Drinks, Ice Coffee Latte, Soft Drink and Includes Towels'\n",
      " \"Yes, there may be 24-hour room service available. It's best to confirm with the hotel.\"\n",
      " 'The hotel building has a strong structure and is designed by experts who have considered various precautions for possible disasters or accidents.'\n",
      " 'Water']\n",
      "['sos Urip minangka petualangan, lan hotel kasebut minangka markas. eos'\n",
      " 'sos Sampeyan bisa nyambung Wi-Fi gratis ing kamar lan wilayah umum hotel. eos'\n",
      " 'sos Enggeh, sampeyan bisa nyetel suhu ing ruangan. eos'\n",
      " 'sos Sayange hotel iki ora duwe area olahraga nanging taman pribadi hotel bisa digunakake kanggo mlaku utawa senam anggere ora nglanggar peraturan hotel. eos'\n",
      " 'sos Bintang Hotel nyedhiyakake lapangan dolanan sing gedhe kanggo bocah-bocah eos']\n",
      "['sos Tanduran lan wit-witan ing hotel iki pancen akeh lan maneka warna eos'\n",
      " 'sos Hotel Santika kerep nawarake diskon kanggo kamar single eos'\n",
      " 'sos iya ana layanan pencucian lan pengeringan sandhangan kanggo kenyamanan tamu eos'\n",
      " 'sos Enggeh, ana jamban gratis sing diwenehake ing ruangan. eos'\n",
      " 'sos Asrama ing Universitas Negeri Malang ana wolu, yaiku asrama Soka, Lily, Dahlia, Tulip, Edelwis, Aster, Matahari lan Mawar. eos']\n",
      "['sos Kamar ing Hotel Suna dilengkapi balkon pribadi sing ngadhepi taman hotel. eos'\n",
      " 'sos Pilihan panganan keju burger, pilihan ayam goreng goreng ice minuman kopi ireng, latte kopi ireng, minuman kopi, minuman alus lan kalebu andhuk eos'\n",
      " 'sos Enggeh, bisa uga ana layanan kamar 24 -hour sing kasedhiya. Luwih becik kanggo konfirmasi karo hotel kasebut. eos'\n",
      " 'sos Bangunan hotel nduweni struktur sing kuwat lan dirancang dening para ahli sing wis ngetrapake macem-macem pancegahan kanggo kemungkinan bencana utawa kacilakan. eos'\n",
      " 'sos Banyu eos']\n"
     ]
    }
   ],
   "source": [
    "print(eng_train[:5])\n",
    "print(eng_val[:5])\n",
    "print(eng_test[:5])\n",
    "print(it_train[:5])\n",
    "print(it_val[:5])\n",
    "print(it_test[:5])"
   ]
  },
  {
   "cell_type": "markdown",
   "id": "101jax1MSjX1",
   "metadata": {
    "id": "101jax1MSjX1"
   },
   "source": [
    "# **Basic EDA :**"
   ]
  },
  {
   "cell_type": "code",
   "execution_count": 11,
   "id": "DpwzD_I2SjX1",
   "metadata": {
    "execution": {
     "iopub.execute_input": "2023-12-03T10:06:05.097700Z",
     "iopub.status.busy": "2023-12-03T10:06:05.097180Z",
     "iopub.status.idle": "2023-12-03T10:06:05.102708Z",
     "shell.execute_reply": "2023-12-03T10:06:05.102009Z",
     "shell.execute_reply.started": "2023-12-03T10:06:05.097668Z"
    },
    "executionInfo": {
     "elapsed": 943,
     "status": "ok",
     "timestamp": 1700210621163,
     "user": {
      "displayName": "Muhammad Fahli Saputra",
      "userId": "07111099678462131352"
     },
     "user_tz": -420
    },
    "id": "DpwzD_I2SjX1"
   },
   "outputs": [],
   "source": [
    "def plot_seq_length(df_series, kind=\"hist\"):\n",
    "\n",
    "    \"\"\" Plots length of all sentences in a pandas series\n",
    "\n",
    "    Args:\n",
    "        df_series (pd.Series): Pandas series containing text data.\n",
    "        kind (str): Type of visualisation. 'hist' or 'box'.\n",
    "\n",
    "    Returns:\n",
    "        Nothing\n",
    "\n",
    "    \"\"\"\n",
    "\n",
    "    if kind==\"hist\":\n",
    "        ax1 = df_series.str.split().map(lambda x: len(x)).hist(figsize=(10, 6))\n",
    "        ax1.set(xlabel=\"( Number of Tokens )\", ylabel=\"( Number of Observations )\")\n",
    "        plt.show()\n",
    "\n",
    "    elif kind==\"box\":\n",
    "        ax3 = df_series.str.split().map(lambda x: len(x)).plot.box(figsize=(6,8))\n",
    "        ax3.set_ylabel(\"( Number of Tokens )\")\n",
    "        plt.show()"
   ]
  },
  {
   "cell_type": "code",
   "execution_count": 12,
   "id": "K6ofgWc3SjX1",
   "metadata": {
    "colab": {
     "base_uri": "https://localhost:8080/",
     "height": 542
    },
    "execution": {
     "iopub.execute_input": "2023-12-03T10:06:05.104064Z",
     "iopub.status.busy": "2023-12-03T10:06:05.103711Z",
     "iopub.status.idle": "2023-12-03T10:06:05.341499Z",
     "shell.execute_reply": "2023-12-03T10:06:05.340636Z",
     "shell.execute_reply.started": "2023-12-03T10:06:05.104034Z"
    },
    "executionInfo": {
     "elapsed": 761,
     "status": "ok",
     "timestamp": 1700210624009,
     "user": {
      "displayName": "Muhammad Fahli Saputra",
      "userId": "07111099678462131352"
     },
     "user_tz": -420
    },
    "id": "K6ofgWc3SjX1",
    "outputId": "3c4291c9-9c3f-4807-eb8f-f38aaa449734"
   },
   "outputs": [
    {
     "data": {
      "image/png": "[encoded data removed]",
      "text/plain": [
       "<Figure size 1000x600 with 1 Axes>"
      ]
     },
     "metadata": {},
     "output_type": "display_data"
    }
   ],
   "source": [
    "# Plotting histogram for number of tokens in English sentences\n",
    "plot_seq_length(data.english)"
   ]
  },
  {
   "cell_type": "code",
   "execution_count": 13,
   "id": "R6Z6zD6cSjX1",
   "metadata": {
    "colab": {
     "base_uri": "https://localhost:8080/",
     "height": 542
    },
    "execution": {
     "iopub.execute_input": "2023-12-03T10:06:05.342651Z",
     "iopub.status.busy": "2023-12-03T10:06:05.342392Z",
     "iopub.status.idle": "2023-12-03T10:06:05.552406Z",
     "shell.execute_reply": "2023-12-03T10:06:05.551490Z",
     "shell.execute_reply.started": "2023-12-03T10:06:05.342629Z"
    },
    "executionInfo": {
     "elapsed": 791,
     "status": "ok",
     "timestamp": 1700210633908,
     "user": {
      "displayName": "Muhammad Fahli Saputra",
      "userId": "07111099678462131352"
     },
     "user_tz": -420
    },
    "id": "R6Z6zD6cSjX1",
    "outputId": "4c45aaf3-2a21-4666-a585-65f775ed4871"
   },
   "outputs": [
    {
     "data": {
      "image/png": "[encoded data removed]",
      "text/plain": [
       "<Figure size 1000x600 with 1 Axes>"
      ]
     },
     "metadata": {},
     "output_type": "display_data"
    }
   ],
   "source": [
    "# Plotting histogram for number of tokens in Italian sentences\n",
    "plot_seq_length(data.jawa)"
   ]
  },
  {
   "cell_type": "code",
   "execution_count": 14,
   "id": "VwzwMNHDSjX2",
   "metadata": {
    "colab": {
     "base_uri": "https://localhost:8080/",
     "height": 676
    },
    "execution": {
     "iopub.execute_input": "2023-12-03T10:06:05.553630Z",
     "iopub.status.busy": "2023-12-03T10:06:05.553373Z",
     "iopub.status.idle": "2023-12-03T10:06:05.720501Z",
     "shell.execute_reply": "2023-12-03T10:06:05.719710Z",
     "shell.execute_reply.started": "2023-12-03T10:06:05.553607Z"
    },
    "executionInfo": {
     "elapsed": 413,
     "status": "ok",
     "timestamp": 1700210646412,
     "user": {
      "displayName": "Muhammad Fahli Saputra",
      "userId": "07111099678462131352"
     },
     "user_tz": -420
    },
    "id": "VwzwMNHDSjX2",
    "outputId": "a0f16c88-f8a9-4a6f-fbff-99b17b596143"
   },
   "outputs": [
    {
     "data": {
      "image/png": "[encoded data removed]",
      "text/plain": [
       "<Figure size 600x800 with 1 Axes>"
      ]
     },
     "metadata": {},
     "output_type": "display_data"
    }
   ],
   "source": [
    "# Plotting boxplot for number of tokens in English sentences\n",
    "plot_seq_length(data.jawa, kind=\"box\")"
   ]
  },
  {
   "cell_type": "code",
   "execution_count": 15,
   "id": "hd3MVWQwSjX2",
   "metadata": {
    "colab": {
     "base_uri": "https://localhost:8080/",
     "height": 676
    },
    "execution": {
     "iopub.execute_input": "2023-12-03T10:06:05.722341Z",
     "iopub.status.busy": "2023-12-03T10:06:05.721676Z",
     "iopub.status.idle": "2023-12-03T10:06:05.882069Z",
     "shell.execute_reply": "2023-12-03T10:06:05.881326Z",
     "shell.execute_reply.started": "2023-12-03T10:06:05.722304Z"
    },
    "executionInfo": {
     "elapsed": 662,
     "status": "ok",
     "timestamp": 1700210654636,
     "user": {
      "displayName": "Muhammad Fahli Saputra",
      "userId": "07111099678462131352"
     },
     "user_tz": -420
    },
    "id": "hd3MVWQwSjX2",
    "outputId": "11864620-8eca-48fc-bfae-817b92c107cb"
   },
   "outputs": [
    {
     "data": {
      "image/png": "[encoded data removed]",
      "text/plain": [
       "<Figure size 600x800 with 1 Axes>"
      ]
     },
     "metadata": {},
     "output_type": "display_data"
    }
   ],
   "source": [
    "# Plotting boxplot for number of tokens in Italian sentences\n",
    "plot_seq_length(data.jawa, kind=\"box\")"
   ]
  },
  {
   "cell_type": "markdown",
   "id": "YtrpE9lNSjX2",
   "metadata": {
    "id": "YtrpE9lNSjX2"
   },
   "source": [
    "*So, we can clearly see that the sequence length is around 10-12 on average.*"
   ]
  },
  {
   "cell_type": "markdown",
   "id": "ZfCP1lvMSjX2",
   "metadata": {
    "id": "ZfCP1lvMSjX2"
   },
   "source": [
    "# **Fitting tokenizer and defining preprocessing functions :**"
   ]
  },
  {
   "cell_type": "code",
   "execution_count": 16,
   "id": "tndpQKpmSjX2",
   "metadata": {
    "execution": {
     "iopub.execute_input": "2023-12-03T10:06:05.883229Z",
     "iopub.status.busy": "2023-12-03T10:06:05.882995Z",
     "iopub.status.idle": "2023-12-03T10:06:05.917211Z",
     "shell.execute_reply": "2023-12-03T10:06:05.916439Z",
     "shell.execute_reply.started": "2023-12-03T10:06:05.883208Z"
    },
    "executionInfo": {
     "elapsed": 8,
     "status": "ok",
     "timestamp": 1700210661706,
     "user": {
      "displayName": "Muhammad Fahli Saputra",
      "userId": "07111099678462131352"
     },
     "user_tz": -420
    },
    "id": "tndpQKpmSjX2"
   },
   "outputs": [],
   "source": [
    "# Instantiating and fitting the Tokenizer on english text\n",
    "eng_tokenizer_train_data = data[\"english\"]\n",
    "eng_tok = Tokenizer(oov_token=\"UNK\")\n",
    "eng_tok.fit_on_texts(eng_tokenizer_train_data.values)\n",
    "\n",
    "# Instantiating and fitting the Tokenizer on italian text\n",
    "it_tokenizer_train_data = data[\"jawa\"]\n",
    "it_tok = Tokenizer(oov_token=\"UNK\")\n",
    "it_tok.fit_on_texts(it_tokenizer_train_data.values)"
   ]
  },
  {
   "cell_type": "code",
   "execution_count": 17,
   "id": "m0qx0nxaSjX2",
   "metadata": {
    "execution": {
     "iopub.execute_input": "2023-12-03T10:06:05.918458Z",
     "iopub.status.busy": "2023-12-03T10:06:05.918156Z",
     "iopub.status.idle": "2023-12-03T10:06:05.923683Z",
     "shell.execute_reply": "2023-12-03T10:06:05.923021Z",
     "shell.execute_reply.started": "2023-12-03T10:06:05.918402Z"
    },
    "executionInfo": {
     "elapsed": 329,
     "status": "ok",
     "timestamp": 1700210679609,
     "user": {
      "displayName": "Muhammad Fahli Saputra",
      "userId": "07111099678462131352"
     },
     "user_tz": -420
    },
    "id": "m0qx0nxaSjX2"
   },
   "outputs": [],
   "source": [
    "def sent_to_seq(sequences, tokenizer, vocab_size=None, reverse=False, onehot=False):\n",
    "\n",
    "    \"\"\" Converts text data into sequences supported by model input layers.\n",
    "\n",
    "    Args:\n",
    "        sequences (list): List of text data.\n",
    "        tokenizer (tf.keras.preprocessing.text.Tokenizer): Tensorflow tokenizer object.\n",
    "        vocab_size (int): Number of words in the whole vocabulary.\n",
    "        reverse (bool): Reverses the padded sequence if set True. Defaults False.\n",
    "                        (Eg: if set True, [1 2 3 0 0] becomes [0 0 3 2 1])\n",
    "        onehot (bool): Creates onehot representation of the padded sequence if set True.\n",
    "                       Defaults False.\n",
    "\n",
    "    Returns:\n",
    "        preprocessed_seq (list): List of preprocessed sequences.\n",
    "\n",
    "    \"\"\"\n",
    "\n",
    "    # Tokenizing\n",
    "    seq = tokenizer.texts_to_sequences(sequences)\n",
    "\n",
    "    # Padding\n",
    "    preprocessed_seq = pad_sequences(seq, padding='post', truncating='post', maxlen=20)\n",
    "\n",
    "    # Reversing\n",
    "    if reverse:\n",
    "        preprocessed_seq = preprocessed_seq[:, ::-1]\n",
    "\n",
    "    # Onehot encoding\n",
    "    if onehot:\n",
    "        preprocessed_seq = to_categorical(preprocessed_seq, num_classes=vocab_size)\n",
    "\n",
    "    return preprocessed_seq\n"
   ]
  },
  {
   "cell_type": "code",
   "execution_count": 18,
   "id": "Knya1eEsSjX3",
   "metadata": {
    "execution": {
     "iopub.execute_input": "2023-12-03T10:06:05.924897Z",
     "iopub.status.busy": "2023-12-03T10:06:05.924562Z",
     "iopub.status.idle": "2023-12-03T10:06:05.930347Z",
     "shell.execute_reply": "2023-12-03T10:06:05.929609Z",
     "shell.execute_reply.started": "2023-12-03T10:06:05.924874Z"
    },
    "executionInfo": {
     "elapsed": 378,
     "status": "ok",
     "timestamp": 1700210684806,
     "user": {
      "displayName": "Muhammad Fahli Saputra",
      "userId": "07111099678462131352"
     },
     "user_tz": -420
    },
    "id": "Knya1eEsSjX3"
   },
   "outputs": [],
   "source": [
    "def generate_batch(X, y, batch_size):\n",
    "\n",
    "    \"\"\" Generator function to preprocess the data in batches and\n",
    "        feed them to the model.\n",
    "\n",
    "    Args:\n",
    "        X (list): List of text data.\n",
    "        y (list): List of text data.\n",
    "        batch_size (int): Number of items to be preprocessed and fed\n",
    "                          in a single batch.\n",
    "    Yields:\n",
    "        en_x (list): Preprocessed data supported by encoder input layer.\n",
    "        de_x (list): Preprocessed data supported by decoder input layer.\n",
    "                    (1 timestep behind de_y, since\n",
    "                     TimeDistributed layer is being used for training)\n",
    "        de_y (list): Preprocessed actual outputs of decoder.\n",
    "                     (1 timestep ahead of de_x, since\n",
    "                     TimeDistributed layer is being used for training)\n",
    "    \"\"\"\n",
    "\n",
    "    while True:\n",
    "        for batch in range(0, len(X), batch_size):\n",
    "            en_x = sent_to_seq(X[batch: batch+batch_size],\n",
    "                               tokenizer = eng_tok,\n",
    "                               vocab_size = eng_vocab_size,\n",
    "                               onehot = True,\n",
    "                               reverse = True)\n",
    "\n",
    "            de_xy = sent_to_seq(y[batch: batch+batch_size],\n",
    "                                tokenizer = it_tok,\n",
    "                                vocab_size = it_vocab_size,\n",
    "                                onehot = True)\n",
    "\n",
    "            de_x = de_xy[:,:-1,:]\n",
    "            de_y = de_xy[:,1:,:]\n",
    "\n",
    "            yield([en_x, de_x], de_y)"
   ]
  },
  {
   "cell_type": "markdown",
   "id": "RWsb2iVwSjX3",
   "metadata": {
    "id": "RWsb2iVwSjX3"
   },
   "source": [
    "**What if we don't generate batches?** BOOM!! Resource will get exhausted in a fraction of seconds. Adding some simple math, We have 200K+ training sequences and each have a length of 20 after padding. Our vocabulary size is 13893 for english and 28445 for italian text. When we do padding and then onehot encoding for all data at the same time, It becomes a huge array of dimension \"sequence length(20) x number of samples(200k+) x vocab size(28k+)\". That's why we preprocess and feed data in batches."
   ]
  },
  {
   "cell_type": "markdown",
   "id": "wOPtxhT4SjX3",
   "metadata": {
    "id": "wOPtxhT4SjX3"
   },
   "source": [
    "# **Defining Model Architecture :**"
   ]
  },
  {
   "cell_type": "code",
   "execution_count": 19,
   "id": "VWKUHhn4SjX3",
   "metadata": {
    "execution": {
     "iopub.execute_input": "2023-12-03T10:06:05.931537Z",
     "iopub.status.busy": "2023-12-03T10:06:05.931301Z",
     "iopub.status.idle": "2023-12-03T10:06:05.935162Z",
     "shell.execute_reply": "2023-12-03T10:06:05.934570Z",
     "shell.execute_reply.started": "2023-12-03T10:06:05.931514Z"
    },
    "executionInfo": {
     "elapsed": 501,
     "status": "ok",
     "timestamp": 1700210696180,
     "user": {
      "displayName": "Muhammad Fahli Saputra",
      "userId": "07111099678462131352"
     },
     "user_tz": -420
    },
    "id": "VWKUHhn4SjX3"
   },
   "outputs": [],
   "source": [
    "eng_seq_len = 20    # First dimension of encoder Input shape\n",
    "eng_vocab_size = len(eng_tok.word_index)+1    # Second dimension of encoder Input shape\n",
    "gru_units = 2048    # Number of GRU units"
   ]
  },
  {
   "cell_type": "code",
   "execution_count": 20,
   "id": "aHADSKcfSjX3",
   "metadata": {
    "execution": {
     "iopub.execute_input": "2023-12-03T10:06:05.936459Z",
     "iopub.status.busy": "2023-12-03T10:06:05.936088Z",
     "iopub.status.idle": "2023-12-03T10:06:11.402436Z",
     "shell.execute_reply": "2023-12-03T10:06:11.401688Z",
     "shell.execute_reply.started": "2023-12-03T10:06:05.936427Z"
    },
    "executionInfo": {
     "elapsed": 8289,
     "status": "ok",
     "timestamp": 1700210708219,
     "user": {
      "displayName": "Muhammad Fahli Saputra",
      "userId": "07111099678462131352"
     },
     "user_tz": -420
    },
    "id": "aHADSKcfSjX3"
   },
   "outputs": [],
   "source": [
    "# Encoder\n",
    "en_inputs = Input(shape=(eng_seq_len, eng_vocab_size))\n",
    "en_gru = GRU(gru_units, return_state=True)\n",
    "en_out, en_state = en_gru(en_inputs)"
   ]
  },
  {
   "cell_type": "code",
   "execution_count": 21,
   "id": "IiN7Pf4wSjX3",
   "metadata": {
    "execution": {
     "iopub.execute_input": "2023-12-03T10:06:11.403745Z",
     "iopub.status.busy": "2023-12-03T10:06:11.403488Z",
     "iopub.status.idle": "2023-12-03T10:06:11.407825Z",
     "shell.execute_reply": "2023-12-03T10:06:11.406888Z",
     "shell.execute_reply.started": "2023-12-03T10:06:11.403722Z"
    },
    "executionInfo": {
     "elapsed": 375,
     "status": "ok",
     "timestamp": 1700210710788,
     "user": {
      "displayName": "Muhammad Fahli Saputra",
      "userId": "07111099678462131352"
     },
     "user_tz": -420
    },
    "id": "IiN7Pf4wSjX3"
   },
   "outputs": [],
   "source": [
    "it_seq_len = 20     # First dimension of decoder Input shape\n",
    "it_vocab_size = len(it_tok.word_index)+1     # Second dimension of decoder Input shape"
   ]
  },
  {
   "cell_type": "code",
   "execution_count": 22,
   "id": "mfqf4I-ASjX4",
   "metadata": {
    "execution": {
     "iopub.execute_input": "2023-12-03T10:06:11.409116Z",
     "iopub.status.busy": "2023-12-03T10:06:11.408840Z",
     "iopub.status.idle": "2023-12-03T10:06:16.711947Z",
     "shell.execute_reply": "2023-12-03T10:06:16.710942Z",
     "shell.execute_reply.started": "2023-12-03T10:06:11.409084Z"
    },
    "executionInfo": {
     "elapsed": 9116,
     "status": "ok",
     "timestamp": 1700210722394,
     "user": {
      "displayName": "Muhammad Fahli Saputra",
      "userId": "07111099678462131352"
     },
     "user_tz": -420
    },
    "id": "mfqf4I-ASjX4"
   },
   "outputs": [],
   "source": [
    "# Decoder\n",
    "de_inputs = Input(shape=(it_seq_len-1, it_vocab_size))\n",
    "de_gru = GRU(gru_units, return_sequences=True)\n",
    "de_out = de_gru(de_inputs, initial_state=en_state)"
   ]
  },
  {
   "cell_type": "code",
   "execution_count": 23,
   "id": "k3sljE87SjX4",
   "metadata": {
    "execution": {
     "iopub.execute_input": "2023-12-03T10:06:16.713435Z",
     "iopub.status.busy": "2023-12-03T10:06:16.713139Z",
     "iopub.status.idle": "2023-12-03T10:06:16.746749Z",
     "shell.execute_reply": "2023-12-03T10:06:16.746052Z",
     "shell.execute_reply.started": "2023-12-03T10:06:16.713409Z"
    },
    "executionInfo": {
     "elapsed": 341,
     "status": "ok",
     "timestamp": 1700210733285,
     "user": {
      "displayName": "Muhammad Fahli Saputra",
      "userId": "07111099678462131352"
     },
     "user_tz": -420
    },
    "id": "k3sljE87SjX4"
   },
   "outputs": [],
   "source": [
    "# Decoder output architecture\n",
    "# TimeDistributed layer is used for training purpose\n",
    "de_dense = TimeDistributed(Dense(it_vocab_size, activation='softmax'))\n",
    "de_pred = de_dense(de_out)"
   ]
  },
  {
   "cell_type": "markdown",
   "id": "hQycsebhSjX8",
   "metadata": {
    "id": "hQycsebhSjX8"
   },
   "source": [
    "# **Why TimeDistributed layer is being used and what is teacher forcing?**\n",
    "<br></br>\n",
    "We are developing NMT model with **teacher forcing algorithm**. So, What is teacher forcing? Normally we will use a repeat vector layer to repeat the context vector provided by the encoder as input to decoder at each timestep. Instead, In teacher forcing algorithm, we will be supplying the ouput of the decoder at previous time step as input to the decoder at current time step. Same applies for the context vector. Hence achieving better results.  \n",
    "<br></br>\n",
    "**Time Distributed** layer is being used for training purpose. We will not be using this layer in inference model. The layer takes the whole inputs and feeds the vectors and compares results one by one for each time step."
   ]
  },
  {
   "cell_type": "code",
   "execution_count": 24,
   "id": "psOdpBV5SjX9",
   "metadata": {
    "execution": {
     "iopub.execute_input": "2023-12-03T10:06:16.747890Z",
     "iopub.status.busy": "2023-12-03T10:06:16.747662Z",
     "iopub.status.idle": "2023-12-03T10:06:16.771041Z",
     "shell.execute_reply": "2023-12-03T10:06:16.770261Z",
     "shell.execute_reply.started": "2023-12-03T10:06:16.747869Z"
    },
    "executionInfo": {
     "elapsed": 383,
     "status": "ok",
     "timestamp": 1700210743053,
     "user": {
      "displayName": "Muhammad Fahli Saputra",
      "userId": "07111099678462131352"
     },
     "user_tz": -420
    },
    "id": "psOdpBV5SjX9"
   },
   "outputs": [],
   "source": [
    "# Compiling\n",
    "nmt = Model(inputs=[en_inputs, de_inputs], outputs=de_pred)\n",
    "nmt.compile(optimizer='adam', loss=\"categorical_crossentropy\", metrics=[\"acc\"])"
   ]
  },
  {
   "cell_type": "code",
   "execution_count": 25,
   "id": "urkRb5fESjX9",
   "metadata": {
    "colab": {
     "base_uri": "https://localhost:8080/"
    },
    "execution": {
     "iopub.execute_input": "2023-12-03T10:06:16.772448Z",
     "iopub.status.busy": "2023-12-03T10:06:16.772053Z",
     "iopub.status.idle": "2023-12-03T10:06:16.792110Z",
     "shell.execute_reply": "2023-12-03T10:06:16.791443Z",
     "shell.execute_reply.started": "2023-12-03T10:06:16.772416Z"
    },
    "executionInfo": {
     "elapsed": 13,
     "status": "ok",
     "timestamp": 1700210744726,
     "user": {
      "displayName": "Muhammad Fahli Saputra",
      "userId": "07111099678462131352"
     },
     "user_tz": -420
    },
    "id": "urkRb5fESjX9",
    "outputId": "0aefb665-1f44-4904-c948-2fdf9d01d62c"
   },
   "outputs": [
    {
     "name": "stdout",
     "output_type": "stream",
     "text": [
      "Model: \"model\"\n",
      "__________________________________________________________________________________________________\n",
      " Layer (type)                Output Shape                 Param #   Connected to                  \n",
      "==================================================================================================\n",
      " input_1 (InputLayer)        [(None, 20, 2026)]           0         []                            \n",
      "                                                                                                  \n",
      " input_2 (InputLayer)        [(None, 19, 2172)]           0         []                            \n",
      "                                                                                                  \n",
      " gru (GRU)                   [(None, 2048),               2504294   ['input_1[0][0]']             \n",
      "                              (None, 2048)]               4                                       \n",
      "                                                                                                  \n",
      " gru_1 (GRU)                 (None, 19, 2048)             2593996   ['input_2[0][0]',             \n",
      "                                                          8          'gru[0][1]']                 \n",
      "                                                                                                  \n",
      " time_distributed (TimeDist  (None, 19, 2172)             4450428   ['gru_1[0][0]']               \n",
      " ributed)                                                                                         \n",
      "                                                                                                  \n",
      "==================================================================================================\n",
      "Total params: 55433340 (211.46 MB)\n",
      "Trainable params: 55433340 (211.46 MB)\n",
      "Non-trainable params: 0 (0.00 Byte)\n",
      "__________________________________________________________________________________________________\n",
      "None\n"
     ]
    }
   ],
   "source": [
    "print(nmt.summary())"
   ]
  },
  {
   "cell_type": "markdown",
   "id": "tKzlVJ0bSjX9",
   "metadata": {
    "id": "tKzlVJ0bSjX9"
   },
   "source": [
    "# **Training, Evaluating and plotting results :**"
   ]
  },
  {
   "cell_type": "code",
   "execution_count": 26,
   "id": "M3gJ6VMtSjX9",
   "metadata": {
    "execution": {
     "iopub.execute_input": "2023-12-03T10:06:16.793172Z",
     "iopub.status.busy": "2023-12-03T10:06:16.792949Z",
     "iopub.status.idle": "2023-12-03T10:06:16.799480Z",
     "shell.execute_reply": "2023-12-03T10:06:16.798617Z",
     "shell.execute_reply.started": "2023-12-03T10:06:16.793152Z"
    },
    "executionInfo": {
     "elapsed": 9,
     "status": "ok",
     "timestamp": 1700210747963,
     "user": {
      "displayName": "Muhammad Fahli Saputra",
      "userId": "07111099678462131352"
     },
     "user_tz": -420
    },
    "id": "M3gJ6VMtSjX9"
   },
   "outputs": [],
   "source": [
    "def plot_history(history, metric = \"loss\"):\n",
    "\n",
    "    \"\"\" Plots training history of models.\n",
    "\n",
    "    Args:\n",
    "        history (History): Tensorflow History object containing training\n",
    "                           history of the model.\n",
    "        metric (str): 'accuracy' or 'loss'. Metric to be plotted.\n",
    "\n",
    "    Returns:\n",
    "        Nothing\n",
    "\n",
    "    \"\"\"\n",
    "\n",
    "    history_dict = history.history\n",
    "    epochs = range(1, len(history_dict['loss'])+1)\n",
    "\n",
    "    if metric == \"loss\":\n",
    "        train_loss = history_dict['loss']    # Training loss over epochs\n",
    "        val_loss = history_dict['val_loss']    # Validation loss over epochs\n",
    "        plt.plot(epochs, train_loss,'b', label='Training error')\n",
    "        plt.plot(epochs, val_loss,'b', color=\"orange\", label='Validation error')\n",
    "        plt.title('Training and Validation error')\n",
    "        plt.xlabel('Epochs')\n",
    "        plt.ylabel('Error')\n",
    "        plt.legend()\n",
    "        plt.show()\n",
    "\n",
    "    elif metric == \"accuracy\":\n",
    "        train_acc = history_dict['acc']    # Training accuracy over epochs\n",
    "        val_acc = history_dict['val_acc']    # Validation accuracy over epochs\n",
    "        plt.plot(epochs, train_acc,'b', label='Training accuracy')\n",
    "        plt.plot(epochs, val_acc,'b', color=\"orange\", label='Validation accuracy')\n",
    "        plt.title('Training and Validation accuracy')\n",
    "        plt.xlabel('Epochs')\n",
    "        plt.ylabel('Accuracy')\n",
    "        plt.legend()\n",
    "        plt.show()\n",
    "\n"
   ]
  },
  {
   "cell_type": "code",
   "execution_count": 27,
   "id": "0F1wZKhvSjX9",
   "metadata": {
    "execution": {
     "iopub.execute_input": "2023-12-03T10:06:16.800714Z",
     "iopub.status.busy": "2023-12-03T10:06:16.800490Z",
     "iopub.status.idle": "2023-12-03T10:06:16.804388Z",
     "shell.execute_reply": "2023-12-03T10:06:16.803662Z",
     "shell.execute_reply.started": "2023-12-03T10:06:16.800694Z"
    },
    "executionInfo": {
     "elapsed": 8,
     "status": "ok",
     "timestamp": 1700210780126,
     "user": {
      "displayName": "Muhammad Fahli Saputra",
      "userId": "07111099678462131352"
     },
     "user_tz": -420
    },
    "id": "0F1wZKhvSjX9"
   },
   "outputs": [],
   "source": [
    "n_epochs, batch_size = 30, 100 # multiply by two"
   ]
  },
  {
   "cell_type": "code",
   "execution_count": 28,
   "id": "d80f2d7f-b364-45e9-82b6-22a8871faecc",
   "metadata": {
    "execution": {
     "iopub.execute_input": "2023-12-03T10:06:16.808254Z",
     "iopub.status.busy": "2023-12-03T10:06:16.807917Z",
     "iopub.status.idle": "2023-12-03T10:06:16.812614Z",
     "shell.execute_reply": "2023-12-03T10:06:16.811756Z",
     "shell.execute_reply.started": "2023-12-03T10:06:16.808229Z"
    }
   },
   "outputs": [],
   "source": [
    "class TresholdCallback(tf.keras.callbacks.Callback):\n",
    "    def __init__(self, threshold):\n",
    "        super(TresholdCallback, self).__init__()\n",
    "        self.threshold = threshold\n",
    "\n",
    "    def on_epoch_end(self, epoch, logs=None): \n",
    "        val_acc = logs[\"val_acc\"]\n",
    "        if val_acc >= self.threshold:\n",
    "            self.model.stop_training = True"
   ]
  },
  {
   "cell_type": "code",
   "execution_count": 29,
   "id": "ShSoUHWtSjX9",
   "metadata": {
    "colab": {
     "base_uri": "https://localhost:8080/"
    },
    "execution": {
     "iopub.execute_input": "2023-12-03T10:06:16.813905Z",
     "iopub.status.busy": "2023-12-03T10:06:16.813598Z",
     "iopub.status.idle": "2023-12-03T10:19:41.332926Z",
     "shell.execute_reply": "2023-12-03T10:19:41.332018Z",
     "shell.execute_reply.started": "2023-12-03T10:06:16.813875Z"
    },
    "executionInfo": {
     "elapsed": 4321339,
     "status": "ok",
     "timestamp": 1700215110944,
     "user": {
      "displayName": "Muhammad Fahli Saputra",
      "userId": "07111099678462131352"
     },
     "user_tz": -420
    },
    "id": "ShSoUHWtSjX9",
    "outputId": "15bd11e7-8ed9-4e81-a198-058431bfa50e"
   },
   "outputs": [
    {
     "name": "stdout",
     "output_type": "stream",
     "text": [
      "Epoch 1/30\n",
      "6/6 [==============================] - 33s 5s/step - loss: 6.7059 - acc: 0.3099 - val_loss: 6.9751 - val_acc: 0.3945\n",
      "Epoch 2/30\n",
      "6/6 [==============================] - 24s 5s/step - loss: 5.9263 - acc: 0.3828 - val_loss: 4.7399 - val_acc: 0.3797\n",
      "Epoch 3/30\n",
      "6/6 [==============================] - 24s 4s/step - loss: 4.7074 - acc: 0.3895 - val_loss: 4.4272 - val_acc: 0.4037\n",
      "Epoch 4/30\n",
      "6/6 [==============================] - 26s 4s/step - loss: 4.4144 - acc: 0.3776 - val_loss: 4.4309 - val_acc: 0.3903\n",
      "Epoch 5/30\n",
      "6/6 [==============================] - 24s 4s/step - loss: 4.2621 - acc: 0.3717 - val_loss: 4.5604 - val_acc: 0.3843\n",
      "Epoch 6/30\n",
      "6/6 [==============================] - 24s 4s/step - loss: 4.1570 - acc: 0.3805 - val_loss: 4.1988 - val_acc: 0.4088\n",
      "Epoch 7/30\n",
      "6/6 [==============================] - 26s 4s/step - loss: 4.0177 - acc: 0.3896 - val_loss: 4.1760 - val_acc: 0.4042\n",
      "Epoch 8/30\n",
      "6/6 [==============================] - 27s 5s/step - loss: 3.8692 - acc: 0.3968 - val_loss: 4.1700 - val_acc: 0.3986\n",
      "Epoch 9/30\n",
      "6/6 [==============================] - 24s 5s/step - loss: 3.7218 - acc: 0.4029 - val_loss: 3.9808 - val_acc: 0.4134\n",
      "Epoch 10/30\n",
      "6/6 [==============================] - 26s 4s/step - loss: 3.6973 - acc: 0.4114 - val_loss: 4.1006 - val_acc: 0.4184\n",
      "Epoch 11/30\n",
      "6/6 [==============================] - 24s 4s/step - loss: 3.6146 - acc: 0.4081 - val_loss: 4.1177 - val_acc: 0.4052\n",
      "Epoch 12/30\n",
      "6/6 [==============================] - 24s 4s/step - loss: 3.7558 - acc: 0.4001 - val_loss: 4.0523 - val_acc: 0.4379\n",
      "Epoch 13/30\n",
      "6/6 [==============================] - 26s 4s/step - loss: 3.6037 - acc: 0.4003 - val_loss: 4.0976 - val_acc: 0.4137\n",
      "Epoch 14/30\n",
      "6/6 [==============================] - 24s 4s/step - loss: 3.5019 - acc: 0.4212 - val_loss: 4.0230 - val_acc: 0.4425\n",
      "Epoch 15/30\n",
      "6/6 [==============================] - 27s 5s/step - loss: 3.3860 - acc: 0.4517 - val_loss: 3.8870 - val_acc: 0.4446\n",
      "Epoch 16/30\n",
      "6/6 [==============================] - 26s 5s/step - loss: 3.2888 - acc: 0.4580 - val_loss: 3.9638 - val_acc: 0.4566\n",
      "Epoch 17/30\n",
      "6/6 [==============================] - 24s 4s/step - loss: 3.2235 - acc: 0.4574 - val_loss: 4.0680 - val_acc: 0.4604\n",
      "Epoch 18/30\n",
      "6/6 [==============================] - 24s 4s/step - loss: 3.1779 - acc: 0.4638 - val_loss: 3.8716 - val_acc: 0.4614\n",
      "Epoch 19/30\n",
      "6/6 [==============================] - 26s 4s/step - loss: 3.1263 - acc: 0.4655 - val_loss: 3.9437 - val_acc: 0.4655\n",
      "Epoch 20/30\n",
      "6/6 [==============================] - 24s 4s/step - loss: 3.0782 - acc: 0.4687 - val_loss: 4.0490 - val_acc: 0.4701\n",
      "Epoch 21/30\n",
      "6/6 [==============================] - 24s 4s/step - loss: 2.9876 - acc: 0.4835 - val_loss: 3.7479 - val_acc: 0.4911\n",
      "Epoch 22/30\n",
      "6/6 [==============================] - 29s 5s/step - loss: 2.8605 - acc: 0.4976 - val_loss: 3.8941 - val_acc: 0.4847\n",
      "Epoch 23/30\n",
      "6/6 [==============================] - 24s 5s/step - loss: 2.7292 - acc: 0.5170 - val_loss: 3.9902 - val_acc: 0.4762\n",
      "Epoch 24/30\n",
      "6/6 [==============================] - 24s 4s/step - loss: 2.6185 - acc: 0.5250 - val_loss: 3.7631 - val_acc: 0.4967\n",
      "Epoch 25/30\n",
      "6/6 [==============================] - 26s 4s/step - loss: 2.5642 - acc: 0.5296 - val_loss: 3.9027 - val_acc: 0.4947\n",
      "Epoch 26/30\n",
      "6/6 [==============================] - 24s 4s/step - loss: 2.4805 - acc: 0.5424 - val_loss: 4.0818 - val_acc: 0.4768\n",
      "Epoch 27/30\n",
      "6/6 [==============================] - 24s 4s/step - loss: 2.3745 - acc: 0.5464 - val_loss: 3.6866 - val_acc: 0.5120\n",
      "Epoch 28/30\n",
      "6/6 [==============================] - 26s 4s/step - loss: 2.2766 - acc: 0.5529 - val_loss: 3.8598 - val_acc: 0.5008\n",
      "Epoch 29/30\n",
      "6/6 [==============================] - 27s 5s/step - loss: 2.1566 - acc: 0.5720 - val_loss: 3.9805 - val_acc: 0.4854\n",
      "Epoch 30/30\n",
      "6/6 [==============================] - 24s 5s/step - loss: 1.9899 - acc: 0.6052 - val_loss: 3.6877 - val_acc: 0.5197\n"
     ]
    }
   ],
   "source": [
    "# Training and validation\n",
    "trainingCallback = TresholdCallback(threshold=0.95)\n",
    "history = nmt.fit(generate_batch(eng_train, it_train, batch_size=batch_size),\n",
    "                  steps_per_epoch = len(eng_train)//batch_size,\n",
    "                  epochs = n_epochs,\n",
    "                  validation_data = generate_batch(eng_val, it_val, batch_size=batch_size),\n",
    "                  validation_steps = len(eng_val)//batch_size,\n",
    "                  callbacks=[trainingCallback])"
   ]
  },
  {
   "cell_type": "code",
   "execution_count": 30,
   "id": "3yUv3xsjSjX-",
   "metadata": {
    "colab": {
     "base_uri": "https://localhost:8080/",
     "height": 524
    },
    "execution": {
     "iopub.execute_input": "2023-12-03T10:19:41.334723Z",
     "iopub.status.busy": "2023-12-03T10:19:41.334343Z",
     "iopub.status.idle": "2023-12-03T10:19:41.545054Z",
     "shell.execute_reply": "2023-12-03T10:19:41.544155Z",
     "shell.execute_reply.started": "2023-12-03T10:19:41.334688Z"
    },
    "executionInfo": {
     "elapsed": 446,
     "status": "ok",
     "timestamp": 1700215473211,
     "user": {
      "displayName": "Muhammad Fahli Saputra",
      "userId": "07111099678462131352"
     },
     "user_tz": -420
    },
    "id": "3yUv3xsjSjX-",
    "outputId": "8c235c70-9b76-4515-9b62-032b1a1d8f40"
   },
   "outputs": [
    {
     "data": {
      "image/png": "[encoded data removed]",
      "text/plain": [
       "<Figure size 640x480 with 1 Axes>"
      ]
     },
     "metadata": {},
     "output_type": "display_data"
    }
   ],
   "source": [
    "plot_history(history)"
   ]
  },
  {
   "cell_type": "code",
   "execution_count": 31,
   "id": "_u_6IOsjSjX-",
   "metadata": {
    "colab": {
     "base_uri": "https://localhost:8080/",
     "height": 524
    },
    "execution": {
     "iopub.execute_input": "2023-12-03T10:19:41.546720Z",
     "iopub.status.busy": "2023-12-03T10:19:41.546128Z",
     "iopub.status.idle": "2023-12-03T10:19:41.765701Z",
     "shell.execute_reply": "2023-12-03T10:19:41.765061Z",
     "shell.execute_reply.started": "2023-12-03T10:19:41.546685Z"
    },
    "executionInfo": {
     "elapsed": 1101,
     "status": "ok",
     "timestamp": 1700215476791,
     "user": {
      "displayName": "Muhammad Fahli Saputra",
      "userId": "07111099678462131352"
     },
     "user_tz": -420
    },
    "id": "_u_6IOsjSjX-",
    "outputId": "0b979eda-f344-441d-ec1f-093fc417bd47"
   },
   "outputs": [
    {
     "data": {
      "image/png": "[encoded data removed]",
      "text/plain": [
       "<Figure size 640x480 with 1 Axes>"
      ]
     },
     "metadata": {},
     "output_type": "display_data"
    }
   ],
   "source": [
    "plot_history(history, metric=\"accuracy\")"
   ]
  },
  {
   "cell_type": "code",
   "execution_count": 32,
   "id": "KnxtLQeqSjX-",
   "metadata": {
    "colab": {
     "base_uri": "https://localhost:8080/"
    },
    "execution": {
     "iopub.execute_input": "2023-12-03T10:19:41.766826Z",
     "iopub.status.busy": "2023-12-03T10:19:41.766603Z",
     "iopub.status.idle": "2023-12-03T10:22:03.768128Z",
     "shell.execute_reply": "2023-12-03T10:22:03.767189Z",
     "shell.execute_reply.started": "2023-12-03T10:19:41.766807Z"
    },
    "executionInfo": {
     "elapsed": 742586,
     "status": "ok",
     "timestamp": 1700216226402,
     "user": {
      "displayName": "Muhammad Fahli Saputra",
      "userId": "07111099678462131352"
     },
     "user_tz": -420
    },
    "id": "KnxtLQeqSjX-",
    "outputId": "2ccd504e-5c64-4330-90c3-572fa1193ad0"
   },
   "outputs": [
    {
     "name": "stdout",
     "output_type": "stream",
     "text": [
      "100/100 [==============================] - 134s 1s/step - loss: 4.2992 - acc: 0.4651\n",
      "========== Test set loss: 4.299198627471924 - Test set Accuracy: 46.51303291320801 % ==========\n"
     ]
    }
   ],
   "source": [
    "# Evaluating on completely unseen data\n",
    "results = nmt.evaluate(generate_batch(eng_test, it_test, batch_size=batch_size), steps=batch_size)\n",
    "print(f\"========== Test set loss: {results[0]} - Test set Accuracy: {results[1]*100} % ==========\")"
   ]
  },
  {
   "cell_type": "markdown",
   "id": "5yXkedGsSjX-",
   "metadata": {
    "id": "5yXkedGsSjX-"
   },
   "source": [
    "# **Copying trained layers' weights :**"
   ]
  },
  {
   "cell_type": "code",
   "execution_count": 33,
   "id": "iIsAvolWSjX-",
   "metadata": {
    "execution": {
     "iopub.execute_input": "2023-12-03T10:22:03.769512Z",
     "iopub.status.busy": "2023-12-03T10:22:03.769245Z",
     "iopub.status.idle": "2023-12-03T10:22:03.877366Z",
     "shell.execute_reply": "2023-12-03T10:22:03.876683Z",
     "shell.execute_reply.started": "2023-12-03T10:22:03.769487Z"
    },
    "executionInfo": {
     "elapsed": 1323,
     "status": "ok",
     "timestamp": 1700218195618,
     "user": {
      "displayName": "Muhammad Fahli Saputra",
      "userId": "07111099678462131352"
     },
     "user_tz": -420
    },
    "id": "iIsAvolWSjX-"
   },
   "outputs": [],
   "source": [
    "en_gru_weights = en_gru.get_weights()   # Encoder GRU layer weights\n",
    "de_gru_weights = de_gru.get_weights()    # Decoder GRU layer weights\n",
    "de_dense_weights = de_dense.get_weights()    # Decoder Dense layer weights"
   ]
  },
  {
   "cell_type": "markdown",
   "id": "A50cXNjwSjX-",
   "metadata": {
    "id": "A50cXNjwSjX-"
   },
   "source": [
    "# **Defining inference model Architecture :**"
   ]
  },
  {
   "cell_type": "code",
   "execution_count": 34,
   "id": "BaYdnZnPSjX_",
   "metadata": {
    "execution": {
     "iopub.execute_input": "2023-12-03T10:22:03.878529Z",
     "iopub.status.busy": "2023-12-03T10:22:03.878273Z",
     "iopub.status.idle": "2023-12-03T10:22:09.284612Z",
     "shell.execute_reply": "2023-12-03T10:22:09.283937Z",
     "shell.execute_reply.started": "2023-12-03T10:22:03.878508Z"
    },
    "executionInfo": {
     "elapsed": 7742,
     "status": "ok",
     "timestamp": 1700218205715,
     "user": {
      "displayName": "Muhammad Fahli Saputra",
      "userId": "07111099678462131352"
     },
     "user_tz": -420
    },
    "id": "BaYdnZnPSjX_"
   },
   "outputs": [],
   "source": [
    "# Encoder\n",
    "en_inputs = Input(shape=(eng_seq_len, eng_vocab_size))\n",
    "en_gru = GRU(gru_units, return_state=True)\n",
    "en_out, en_state = en_gru(en_inputs)\n",
    "\n",
    "encoder = Model(inputs=en_inputs, outputs=en_state)"
   ]
  },
  {
   "cell_type": "code",
   "execution_count": 35,
   "id": "9zOVCJC6SjX_",
   "metadata": {
    "execution": {
     "iopub.execute_input": "2023-12-03T10:22:09.285872Z",
     "iopub.status.busy": "2023-12-03T10:22:09.285597Z",
     "iopub.status.idle": "2023-12-03T10:22:09.353782Z",
     "shell.execute_reply": "2023-12-03T10:22:09.352949Z",
     "shell.execute_reply.started": "2023-12-03T10:22:09.285846Z"
    },
    "executionInfo": {
     "elapsed": 375,
     "status": "ok",
     "timestamp": 1700218235887,
     "user": {
      "displayName": "Muhammad Fahli Saputra",
      "userId": "07111099678462131352"
     },
     "user_tz": -420
    },
    "id": "9zOVCJC6SjX_"
   },
   "outputs": [],
   "source": [
    "# Assigns weights of trained model layer to inference model layer\n",
    "en_gru.set_weights(en_gru_weights)"
   ]
  },
  {
   "cell_type": "code",
   "execution_count": 36,
   "id": "09fKFvWVSjX_",
   "metadata": {
    "execution": {
     "iopub.execute_input": "2023-12-03T10:22:09.355685Z",
     "iopub.status.busy": "2023-12-03T10:22:09.354972Z",
     "iopub.status.idle": "2023-12-03T10:22:14.831893Z",
     "shell.execute_reply": "2023-12-03T10:22:14.831233Z",
     "shell.execute_reply.started": "2023-12-03T10:22:09.355650Z"
    },
    "id": "09fKFvWVSjX_"
   },
   "outputs": [],
   "source": [
    "# Decoder\n",
    "de_inputs = Input(shape=(1, it_vocab_size))\n",
    "\n",
    "# Following layer is added in inference model\n",
    "# to take context vector as input\n",
    "de_state_in = Input(shape=(gru_units,))\n",
    "\n",
    "de_gru = GRU(gru_units, return_state=True)\n",
    "de_out, de_state_out = de_gru(de_inputs, initial_state=de_state_in)\n",
    "\n",
    "# TimeDistributed layer is not used since\n",
    "# we will be using .predict() method for\n",
    "# each timestep manually\n",
    "de_dense = Dense(it_vocab_size, activation='softmax')\n",
    "de_pred = de_dense(de_out)\n",
    "\n",
    "decoder = Model(inputs=[de_inputs, de_state_in], outputs=[de_pred, de_state_out])"
   ]
  },
  {
   "cell_type": "code",
   "execution_count": 37,
   "id": "6j_kjyceSjX_",
   "metadata": {
    "execution": {
     "iopub.execute_input": "2023-12-03T10:22:14.833061Z",
     "iopub.status.busy": "2023-12-03T10:22:14.832823Z",
     "iopub.status.idle": "2023-12-03T10:22:14.916836Z",
     "shell.execute_reply": "2023-12-03T10:22:14.916197Z",
     "shell.execute_reply.started": "2023-12-03T10:22:14.833040Z"
    },
    "id": "6j_kjyceSjX_"
   },
   "outputs": [],
   "source": [
    "# Assigns weights of trained model layers to inference model layers\n",
    "de_gru.set_weights(de_gru_weights)\n",
    "de_dense.set_weights(de_dense_weights)"
   ]
  },
  {
   "cell_type": "code",
   "execution_count": 38,
   "id": "SgryBfdISjX_",
   "metadata": {
    "execution": {
     "iopub.execute_input": "2023-12-03T10:22:14.917980Z",
     "iopub.status.busy": "2023-12-03T10:22:14.917727Z",
     "iopub.status.idle": "2023-12-03T10:22:14.934522Z",
     "shell.execute_reply": "2023-12-03T10:22:14.933792Z",
     "shell.execute_reply.started": "2023-12-03T10:22:14.917956Z"
    },
    "id": "SgryBfdISjX_"
   },
   "outputs": [
    {
     "name": "stdout",
     "output_type": "stream",
     "text": [
      "Model: \"model_2\"\n",
      "__________________________________________________________________________________________________\n",
      " Layer (type)                Output Shape                 Param #   Connected to                  \n",
      "==================================================================================================\n",
      " input_4 (InputLayer)        [(None, 1, 2172)]            0         []                            \n",
      "                                                                                                  \n",
      " input_5 (InputLayer)        [(None, 2048)]               0         []                            \n",
      "                                                                                                  \n",
      " gru_3 (GRU)                 [(None, 2048),               2593996   ['input_4[0][0]',             \n",
      "                              (None, 2048)]               8          'input_5[0][0]']             \n",
      "                                                                                                  \n",
      " dense_1 (Dense)             (None, 2172)                 4450428   ['gru_3[0][0]']               \n",
      "                                                                                                  \n",
      "==================================================================================================\n",
      "Total params: 30390396 (115.93 MB)\n",
      "Trainable params: 30390396 (115.93 MB)\n",
      "Non-trainable params: 0 (0.00 Byte)\n",
      "__________________________________________________________________________________________________\n",
      "None\n"
     ]
    }
   ],
   "source": [
    "print(decoder.summary())"
   ]
  },
  {
   "cell_type": "markdown",
   "id": "OmGKOO6USjYE",
   "metadata": {
    "id": "OmGKOO6USjYE"
   },
   "source": [
    "# **Translation in action :**"
   ]
  },
  {
   "cell_type": "code",
   "execution_count": 39,
   "id": "KADI6abuSjYE",
   "metadata": {
    "execution": {
     "iopub.execute_input": "2023-12-03T10:22:14.935763Z",
     "iopub.status.busy": "2023-12-03T10:22:14.935527Z",
     "iopub.status.idle": "2023-12-03T10:22:14.945404Z",
     "shell.execute_reply": "2023-12-03T10:22:14.944633Z",
     "shell.execute_reply.started": "2023-12-03T10:22:14.935736Z"
    },
    "id": "KADI6abuSjYE"
   },
   "outputs": [],
   "source": [
    "def word_to_onehot(tokenizer, word, vocab_size):\n",
    "\n",
    "    \"\"\" Converts a single word into onehot representation.\n",
    "\n",
    "    Args:\n",
    "        tokenizer (tf.keras.preprocessing.text.Tokenizer): Tensorflow tokenizer object.\n",
    "        word (str): Word to be tokenized and onehot encoded.\n",
    "        vocab_size (int): Number of words in the whole vocabulary.\n",
    "\n",
    "    Returns:\n",
    "        de_onhot (list): Onehot representation of given word.\n",
    "\n",
    "    \"\"\"\n",
    "\n",
    "    de_seq = tokenizer.texts_to_sequences([[word]])\n",
    "    de_onehot = to_categorical(de_seq, num_classes=vocab_size).reshape(1, 1, vocab_size)\n",
    "\n",
    "    return de_onehot\n",
    "\n",
    "\n",
    "def translate(eng_sentence):\n",
    "\n",
    "    \"\"\" Returns Italian translation of given english sentence.\n",
    "\n",
    "    Args:\n",
    "        eng_sentence (str): English text to be translated.\n",
    "\n",
    "    Returns:\n",
    "        it_sent (str): Italian translated text.\n",
    "\n",
    "    \"\"\"\n",
    "\n",
    "    en_seq = sent_to_seq([eng_sentence],\n",
    "                         tokenizer=eng_tok,\n",
    "                         reverse=True,\n",
    "                         onehot=True,\n",
    "                         vocab_size=eng_vocab_size)\n",
    "\n",
    "    en_st = encoder.predict(en_seq)\n",
    "    de_seq = word_to_onehot(it_tok, \"sos\", it_vocab_size)\n",
    "    it_sent = \"\"\n",
    "    for i in range(it_seq_len):\n",
    "        de_prob, en_st = decoder.predict([de_seq, en_st])\n",
    "        index = np.argmax(de_prob[0, :], axis=-1)\n",
    "        de_w = it_tok.index_word[index]\n",
    "        de_seq = word_to_onehot(it_tok, de_w, it_vocab_size)\n",
    "        if de_w == 'eos': break\n",
    "        it_sent += de_w + ' '\n",
    "\n",
    "    return it_sent"
   ]
  },
  {
   "cell_type": "code",
   "execution_count": 40,
   "id": "YlUPlXTUSjYE",
   "metadata": {
    "execution": {
     "iopub.execute_input": "2023-12-03T10:22:14.946528Z",
     "iopub.status.busy": "2023-12-03T10:22:14.946271Z",
     "iopub.status.idle": "2023-12-03T10:22:16.529239Z",
     "shell.execute_reply": "2023-12-03T10:22:16.528112Z",
     "shell.execute_reply.started": "2023-12-03T10:22:14.946504Z"
    },
    "id": "YlUPlXTUSjYE"
   },
   "outputs": [
    {
     "name": "stdout",
     "output_type": "stream",
     "text": [
      "English: Rooms at the Suna Hotel are equipped with a private balcony facing the Hotel Park.\n",
      "1/1 [==============================] - 0s 346ms/step\n",
      "1/1 [==============================] - 0s 256ms/step\n",
      "1/1 [==============================] - 0s 22ms/step\n",
      "1/1 [==============================] - 0s 23ms/step\n",
      "1/1 [==============================] - 0s 22ms/step\n",
      "1/1 [==============================] - 0s 22ms/step\n",
      "1/1 [==============================] - 0s 21ms/step\n",
      "1/1 [==============================] - 0s 22ms/step\n",
      "1/1 [==============================] - 0s 21ms/step\n",
      "1/1 [==============================] - 0s 22ms/step\n",
      "1/1 [==============================] - 0s 22ms/step\n",
      "1/1 [==============================] - 0s 22ms/step\n",
      "Translated text: ing hotel iki nyedhiyakake layanan antar jemput bandara kanggo tamu \n"
     ]
    },
    {
     "ename": "NameError",
     "evalue": "name 'extractKeyword' is not defined",
     "output_type": "error",
     "traceback": [
      "\u001b[0;31m---------------------------------------------------------------------------\u001b[0m",
      "\u001b[0;31mNameError\u001b[0m                                 Traceback (most recent call last)",
      "Cell \u001b[0;32mIn[40], line 4\u001b[0m\n\u001b[1;32m      2\u001b[0m \u001b[38;5;28mprint\u001b[39m(\u001b[38;5;124mf\u001b[39m\u001b[38;5;124m\"\u001b[39m\u001b[38;5;124mEnglish: \u001b[39m\u001b[38;5;132;01m{\u001b[39;00msent\u001b[38;5;132;01m}\u001b[39;00m\u001b[38;5;124m\"\u001b[39m)\n\u001b[1;32m      3\u001b[0m \u001b[38;5;28mprint\u001b[39m(\u001b[38;5;124mf\u001b[39m\u001b[38;5;124m\"\u001b[39m\u001b[38;5;124mTranslated text: \u001b[39m\u001b[38;5;132;01m{\u001b[39;00mtranslate(sent)\u001b[38;5;132;01m}\u001b[39;00m\u001b[38;5;124m\"\u001b[39m)\n\u001b[0;32m----> 4\u001b[0m \u001b[38;5;28mprint\u001b[39m(\u001b[38;5;124mf\u001b[39m\u001b[38;5;124m\"\u001b[39m\u001b[38;5;124mKeyword: \u001b[39m\u001b[38;5;132;01m{\u001b[39;00mextractKeyword(sent)\u001b[38;5;132;01m}\u001b[39;00m\u001b[38;5;124m\"\u001b[39m)\n",
      "\u001b[0;31mNameError\u001b[0m: name 'extractKeyword' is not defined"
     ]
    }
   ],
   "source": [
    "for sent in eng_test[: 25]:\n",
    "    print(f\"English: {sent}\")\n",
    "    print(f\"Translated text: {translate(sent)}\")"
   ]
  },
  {
   "cell_type": "markdown",
   "id": "iBEBL3i0SjYE",
   "metadata": {
    "id": "iBEBL3i0SjYE"
   },
   "source": [
    "# **Saving Tokenizers :**"
   ]
  },
  {
   "cell_type": "code",
   "execution_count": null,
   "id": "P9_XwpKmSjYF",
   "metadata": {
    "execution": {
     "iopub.status.busy": "2023-12-03T10:22:16.529955Z",
     "iopub.status.idle": "2023-12-03T10:22:16.530226Z",
     "shell.execute_reply": "2023-12-03T10:22:16.530111Z",
     "shell.execute_reply.started": "2023-12-03T10:22:16.530100Z"
    },
    "id": "P9_XwpKmSjYF"
   },
   "outputs": [],
   "source": [
    "# English\n",
    "eng_tok_file = open(\"English Tokenizer.pkl\", \"wb\")\n",
    "pickle.dump(eng_tok, eng_tok_file)\n",
    "\n",
    "# Italian\n",
    "it_tok_file = open(\"Italian Tokenizer.pkl\", \"wb\")\n",
    "pickle.dump(it_tok, it_tok_file)"
   ]
  },
  {
   "cell_type": "markdown",
   "id": "ynWQTEXySjYF",
   "metadata": {
    "id": "ynWQTEXySjYF"
   },
   "source": [
    "# **Saving NMT components :**"
   ]
  },
  {
   "cell_type": "code",
   "execution_count": null,
   "id": "75tP-_b8SjYF",
   "metadata": {
    "execution": {
     "iopub.status.busy": "2023-12-03T10:22:16.531324Z",
     "iopub.status.idle": "2023-12-03T10:22:16.531597Z",
     "shell.execute_reply": "2023-12-03T10:22:16.531484Z",
     "shell.execute_reply.started": "2023-12-03T10:22:16.531473Z"
    },
    "id": "75tP-_b8SjYF"
   },
   "outputs": [],
   "source": [
    "# Encoder\n",
    "save_model(encoder, \"./encoder\")\n",
    "\n",
    "# Decoder\n",
    "save_model(decoder, \"./decoder\")"
   ]
  },
  {
   "cell_type": "markdown",
   "id": "4fcc2d1e-958a-43b2-93f5-1d2456a376bf",
   "metadata": {},
   "source": [
    "# **Information Extraction**"
   ]
  },
  {
   "cell_type": "code",
   "execution_count": null,
   "id": "792b3944-da60-41e2-8e85-c10e40a5504a",
   "metadata": {
    "execution": {
     "iopub.status.busy": "2023-12-03T10:22:16.533158Z",
     "iopub.status.idle": "2023-12-03T10:22:16.534017Z",
     "shell.execute_reply": "2023-12-03T10:22:16.533838Z",
     "shell.execute_reply.started": "2023-12-03T10:22:16.533815Z"
    }
   },
   "outputs": [],
   "source": [
    "def extractKeyword(text):\n",
    "    language = \"en\"\n",
    "    max_ngram_size = 3\n",
    "    deduplication_thresold = 0.9\n",
    "    deduplication_algo = 'seqm'\n",
    "    windowSize = 1\n",
    "    numOfKeywords = 1\n",
    "    kw_extractor = yake.KeywordExtractor(lan=language, n=max_ngram_size, dedupLim=deduplication_thresold, \n",
    "                                         dedupFunc=deduplication_algo, windowsSize=windowSize, \n",
    "                                         top=numOfKeywords)                   \n",
    "    keywords = kw_extractor.extract_keywords(text)\n",
    "    return keywords[0]\n",
    "\n",
    "def googleSearch(keyword):\n",
    "    url = 'https://www.google.com/search'\n",
    "    headers = {\n",
    "    \t'Accept' : '*/*',\n",
    "    \t'Accept-Language': 'en-US,en;q=0.5',\n",
    "    \t'User-Agent': 'Mozilla/5.0 (Windows NT 10.0; Win64; x64) AppleWebKit/537.36 (KHTML, like Gecko) Chrome/98.0.4758.82',\n",
    "    }\n",
    "    parameters = {'q': keyword}\n",
    "    content = requests.get(url, headers = headers, params = parameters).text\n",
    "    soup = bs4.BeautifulSoup(content, 'html.parser')\n",
    "    search = soup.find(id = 'search')\n",
    "    first_link = search.find('a')\n",
    "    return first_link['href']"
   ]
  },
  {
   "cell_type": "markdown",
   "id": "7ecef185-dede-4a89-9319-ceebbe43a5ec",
   "metadata": {},
   "source": [
    "# **Output**"
   ]
  },
  {
   "cell_type": "code",
   "execution_count": null,
   "id": "471b2601-0868-4faa-82a4-682f1a90b049",
   "metadata": {
    "execution": {
     "iopub.status.busy": "2023-12-03T10:22:16.534894Z",
     "iopub.status.idle": "2023-12-03T10:22:16.535170Z",
     "shell.execute_reply": "2023-12-03T10:22:16.535048Z",
     "shell.execute_reply.started": "2023-12-03T10:22:16.535036Z"
    }
   },
   "outputs": [],
   "source": [
    "# The Grand Dafam Syariah Hotel is very clean\n",
    "# Aston Banua Hotel is one of the best hotels in Banjarmasin\n",
    "# Student Park Hotel is a cozy hotel located in Yogyakarta\n",
    "\n",
    "text_to_translate = \"Aston Banua Hotel is one of the best hotels in Banjarmasin\" # Change this, and run this cell\n",
    "keyword = extractKeyword(text_to_translate)\n",
    "keyword = keyword[0]\n",
    "print(f\"English: {text_to_translate}\")\n",
    "print(f\"Translated text: {translate(text_to_translate)}\")\n",
    "print(f\"Keyword: {keyword}\")\n",
    "\n",
    "search_result = googleSearch(keyword)\n",
    "\n",
    "print(f\"Referensi: {search_result}\")"
   ]
  },
  {
   "cell_type": "code",
   "execution_count": null,
   "id": "fbe595d0-0ca0-459d-a536-5432188d6e10",
   "metadata": {},
   "outputs": [],
   "source": []
  }
 ],
 "metadata": {
  "colab": {
   "provenance": []
  },
  "kernelspec": {
   "display_name": "Python 3 (ipykernel)",
   "language": "python",
   "name": "python3"
  },
  "language_info": {
   "codemirror_mode": {
    "name": "ipython",
    "version": 3
   },
   "file_extension": ".py",
   "mimetype": "text/x-python",
   "name": "python",
   "nbconvert_exporter": "python",
   "pygments_lexer": "ipython3",
   "version": "3.9.2"
  },
  "papermill": {
   "default_parameters": {},
   "duration": 27034.125718,
   "end_time": "2021-10-07T12:12:13.685362",
   "environment_variables": {},
   "exception": null,
   "input_path": "__notebook__.ipynb",
   "output_path": "__notebook__.ipynb",
   "parameters": {},
   "start_time": "2021-10-07T04:41:39.559644",
   "version": "2.3.3"
  }
 },
 "nbformat": 4,
 "nbformat_minor": 5
}
